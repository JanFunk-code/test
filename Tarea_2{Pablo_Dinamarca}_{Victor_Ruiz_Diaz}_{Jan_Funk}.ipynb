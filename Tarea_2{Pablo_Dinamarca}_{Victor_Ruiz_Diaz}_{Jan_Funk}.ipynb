import requests
from bs4 import BeautifulSoup


def get_page_books(page_url):
    """Gets all books from a single page"""
    # Get the webpage
    page = requests.get(page_url)
    soup = BeautifulSoup(page.text, 'html.parser')

    good_books = []

    # Find all book containers on the page
    for book in soup.find_all('article', class_='product_pod'):
        # Check if it's a 5-star book
        stars = book.find('p', class_='star-rating')
        if 'Five' in stars['class']:
            # Get book title
            title = book.h3.a['title']

            # Fix the messy URL
            messy_url = book.h3.a['href']
            clean_url = messy_url.replace('../../../', '')
            full_url = f"http://books.toscrape.com/catalogue/{clean_url}"

            good_books.append((title, full_url))

    return good_books


def get_all_good_books():
    """Gets 5-star books from all pages"""
    all_good_books = []
    page_number = 1

    while True:
        # Build the page URL
        current_page = f"http://books.toscrape.com/catalogue/page-{page_number}.html"
        print(f"Checking page {page_number}...")

        # Try to get the page
        page = requests.get(current_page)
        if page.status_code != 200:
            break  # Stop if page doesn't exist

        # Get books from this page
        page_books = get_page_books(current_page)
        all_good_books.extend(page_books)

        # Check if there's a "next" button
        soup = BeautifulSoup(page.text, 'html.parser')
        if not soup.find('li', class_='next'):
            break  # Stop if no more pages

        page_number += 1

    return all_good_books


# Part 1: Get 5-star books from just page 1
print("5-star books on page 1:")
page1_url = "http://books.toscrape.com/catalogue/page-1.html"
page1_books = get_page_books(page1_url)

for book in page1_books:
    print(f"Book: {book[0]}")
    print(f"Link: {book[1]}\n")

# Part 2: Get all 5-star books from all pages
print("\nFinding all 5-star books in the whole store...")
all_books = get_all_good_books()

print("\nAll 5-star books found:")
for i, book in enumerate(all_books, 1):
    print(f"{i}. {book[0]}")
    print(f"   {book[1]}\n")

print(f"Total 5-star books found: {len(all_books)}")